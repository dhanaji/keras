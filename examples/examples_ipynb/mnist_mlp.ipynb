{
  "nbformat": 4,
  "nbformat_minor": 0,
  "metadata": {
    "colab": {
      "name": "mnist_mlp.ipynb",
      "version": "0.3.2",
      "provenance": [],
      "collapsed_sections": []
    },
    "kernelspec": {
      "name": "python3",
      "display_name": "Python 3"
    }
  },
  "cells": [
    {
      "metadata": {
        "id": "uahgExberdw1",
        "colab_type": "text"
      },
      "cell_type": "markdown",
      "source": [
        "##Trains a simple deep NN on the MNIST dataset.\n",
        "\n",
        "Gets to 98.40% test accuracy after 20 epochs (there is *a lot* of margin for parameter tuning). 2 seconds per epoch on a K520 GPU."
      ]
    },
    {
      "metadata": {
        "id": "Y1rrGXWrpNWV",
        "colab_type": "code",
        "colab": {}
      },
      "cell_type": "code",
      "source": [
        "from __future__ import print_function\n",
        "\n",
        "import keras\n",
        "from keras.datasets import mnist\n",
        "from keras.models import Sequential\n",
        "from keras.layers import Dense, Dropout\n",
        "from keras.optimizers import RMSprop\n",
        "\n",
        "batch_size = 128\n",
        "num_classes = 10\n",
        "epochs = 20\n",
        "\n",
        "# the data, split between train and test sets\n",
        "(x_train, y_train), (x_test, y_test) = mnist.load_data()\n",
        "\n",
        "x_train = x_train.reshape(60000, 784)\n",
        "x_test = x_test.reshape(10000, 784)\n",
        "x_train = x_train.astype('float32')\n",
        "x_test = x_test.astype('float32')\n",
        "x_train /= 255\n",
        "x_test /= 255\n",
        "print(x_train.shape[0], 'train samples')\n",
        "print(x_test.shape[0], 'test samples')\n",
        "\n",
        "# convert class vectors to binary class matrices\n",
        "y_train = keras.utils.to_categorical(y_train, num_classes)\n",
        "y_test = keras.utils.to_categorical(y_test, num_classes)\n",
        "\n",
        "model = Sequential()\n",
        "model.add(Dense(512, activation='relu', input_shape=(784,)))\n",
        "model.add(Dropout(0.2))\n",
        "model.add(Dense(512, activation='relu'))\n",
        "model.add(Dropout(0.2))\n",
        "model.add(Dense(num_classes, activation='softmax'))\n",
        "\n",
        "model.summary()\n",
        "\n",
        "model.compile(loss='categorical_crossentropy',\n",
        "              optimizer=RMSprop(),\n",
        "              metrics=['accuracy'])\n"
      ],
      "execution_count": 0,
      "outputs": []
    },
    {
      "metadata": {
        "id": "gTusZYT0y439",
        "colab_type": "text"
      },
      "cell_type": "markdown",
      "source": [
        "Tensorboard"
      ]
    },
    {
      "metadata": {
        "id": "WjTG_ZmRy7V0",
        "colab_type": "code",
        "colab": {}
      },
      "cell_type": "code",
      "source": [
        "from keras.callbacks import TensorBoard\n",
        "tbCallBack = TensorBoard(log_dir='./log', histogram_freq=1,\n",
        "                         write_graph=True,\n",
        "                         write_grads=True,\n",
        "                         batch_size=batch_size,\n",
        "                         write_images=True)"
      ],
      "execution_count": 0,
      "outputs": []
    },
    {
      "metadata": {
        "id": "Y-hVPbJzzLCO",
        "colab_type": "code",
        "colab": {
          "base_uri": "https://localhost:8080/",
          "height": 728
        },
        "outputId": "5cfccaa7-4323-419d-e513-6dfda54b8a9c"
      },
      "cell_type": "code",
      "source": [
        "history = model.fit(x_train, y_train,\n",
        "                    batch_size=batch_size,\n",
        "                    epochs=epochs,\n",
        "                    verbose=1,\n",
        "                    validation_data=(x_test, y_test),\n",
        "                    callbacks=[tbCallBack])\n"
      ],
      "execution_count": 4,
      "outputs": [
        {
          "output_type": "stream",
          "text": [
            "Train on 60000 samples, validate on 10000 samples\n",
            "Epoch 1/20\n",
            "60000/60000 [==============================] - 10s 167us/step - loss: 0.0177 - acc: 0.9955 - val_loss: 0.1158 - val_acc: 0.9827\n",
            "Epoch 2/20\n",
            "60000/60000 [==============================] - 10s 169us/step - loss: 0.0189 - acc: 0.9956 - val_loss: 0.1156 - val_acc: 0.9844\n",
            "Epoch 3/20\n",
            "60000/60000 [==============================] - 10s 169us/step - loss: 0.0153 - acc: 0.9959 - val_loss: 0.1150 - val_acc: 0.9840\n",
            "Epoch 4/20\n",
            "60000/60000 [==============================] - 10s 171us/step - loss: 0.0159 - acc: 0.9964 - val_loss: 0.1105 - val_acc: 0.9856\n",
            "Epoch 5/20\n",
            "60000/60000 [==============================] - 10s 168us/step - loss: 0.0154 - acc: 0.9966 - val_loss: 0.1022 - val_acc: 0.9858\n",
            "Epoch 6/20\n",
            "60000/60000 [==============================] - 11s 177us/step - loss: 0.0157 - acc: 0.9964 - val_loss: 0.1122 - val_acc: 0.9839\n",
            "Epoch 7/20\n",
            "60000/60000 [==============================] - 10s 168us/step - loss: 0.0136 - acc: 0.9966 - val_loss: 0.1111 - val_acc: 0.9849\n",
            "Epoch 8/20\n",
            "60000/60000 [==============================] - 10s 166us/step - loss: 0.0147 - acc: 0.9965 - val_loss: 0.1118 - val_acc: 0.9839\n",
            "Epoch 9/20\n",
            "60000/60000 [==============================] - 10s 166us/step - loss: 0.0152 - acc: 0.9967 - val_loss: 0.1241 - val_acc: 0.9833\n",
            "Epoch 10/20\n",
            "60000/60000 [==============================] - 10s 171us/step - loss: 0.0142 - acc: 0.9966 - val_loss: 0.1222 - val_acc: 0.9844\n",
            "Epoch 11/20\n",
            "60000/60000 [==============================] - 10s 168us/step - loss: 0.0115 - acc: 0.9970 - val_loss: 0.1122 - val_acc: 0.9842\n",
            "Epoch 12/20\n",
            "60000/60000 [==============================] - 10s 168us/step - loss: 0.0134 - acc: 0.9969 - val_loss: 0.1192 - val_acc: 0.9848\n",
            "Epoch 13/20\n",
            "60000/60000 [==============================] - 10s 169us/step - loss: 0.0129 - acc: 0.9972 - val_loss: 0.1179 - val_acc: 0.9860\n",
            "Epoch 14/20\n",
            "60000/60000 [==============================] - 10s 168us/step - loss: 0.0113 - acc: 0.9975 - val_loss: 0.1153 - val_acc: 0.9865\n",
            "Epoch 15/20\n",
            "60000/60000 [==============================] - 10s 167us/step - loss: 0.0126 - acc: 0.9971 - val_loss: 0.1318 - val_acc: 0.9840\n",
            "Epoch 16/20\n",
            "60000/60000 [==============================] - 10s 167us/step - loss: 0.0131 - acc: 0.9971 - val_loss: 0.1244 - val_acc: 0.9847\n",
            "Epoch 17/20\n",
            "60000/60000 [==============================] - 10s 171us/step - loss: 0.0133 - acc: 0.9971 - val_loss: 0.1200 - val_acc: 0.9860\n",
            "Epoch 18/20\n",
            "60000/60000 [==============================] - 10s 167us/step - loss: 0.0147 - acc: 0.9971 - val_loss: 0.1184 - val_acc: 0.9867\n",
            "Epoch 19/20\n",
            "60000/60000 [==============================] - 10s 170us/step - loss: 0.0117 - acc: 0.9972 - val_loss: 0.1309 - val_acc: 0.9847\n",
            "Epoch 20/20\n",
            "60000/60000 [==============================] - 10s 168us/step - loss: 0.0126 - acc: 0.9975 - val_loss: 0.1330 - val_acc: 0.9844\n"
          ],
          "name": "stdout"
        }
      ]
    },
    {
      "metadata": {
        "id": "Dv-S9lZezOe0",
        "colab_type": "code",
        "colab": {
          "base_uri": "https://localhost:8080/",
          "height": 52
        },
        "outputId": "12e8c2bf-b719-401e-d12f-6fb3e693ecb3"
      },
      "cell_type": "code",
      "source": [
        "score = model.evaluate(x_test, y_test, verbose=0)\n",
        "print('Test loss:', score[0])\n",
        "print('Test accuracy:', score[1])"
      ],
      "execution_count": 5,
      "outputs": [
        {
          "output_type": "stream",
          "text": [
            "Test loss: 0.13301036445743789\n",
            "Test accuracy: 0.9844\n"
          ],
          "name": "stdout"
        }
      ]
    }
  ]
}